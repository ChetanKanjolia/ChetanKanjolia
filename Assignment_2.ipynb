{
  "nbformat": 4,
  "nbformat_minor": 0,
  "metadata": {
    "colab": {
      "provenance": []
    },
    "kernelspec": {
      "name": "python3",
      "display_name": "Python 3"
    },
    "language_info": {
      "name": "python"
    }
  },
  "cells": [
    {
      "cell_type": "markdown",
      "source": [
        "1.What are the two values of the Boolean data type? How do you write them?"
      ],
      "metadata": {
        "id": "zWUfOMGmOM2v"
      }
    },
    {
      "cell_type": "code",
      "source": [
        "# \"0 (False)\" and \"1 (True)\" are the Bolean data types\n",
        "# They boolean function is written as \"bool()\""
      ],
      "metadata": {
        "id": "uSSU7JINOamv"
      },
      "execution_count": 5,
      "outputs": []
    },
    {
      "cell_type": "markdown",
      "source": [
        "2. What are the three different types of Boolean operators?"
      ],
      "metadata": {
        "id": "lVPHA3iEP_l8"
      }
    },
    {
      "cell_type": "code",
      "source": [
        "# \"AND\" \"OR\" and \"NOT\" are the three boolean operators."
      ],
      "metadata": {
        "id": "gk_rOORfP6O6"
      },
      "execution_count": null,
      "outputs": []
    },
    {
      "cell_type": "markdown",
      "source": [
        "3. Make a list of each Boolean operator&#39;s truth tables (i.e. every possible combination of Boolean\n",
        "values for the operator and what it evaluate )."
      ],
      "metadata": {
        "id": "ijRdmTMjQYnG"
      }
    },
    {
      "cell_type": "markdown",
      "source": [
        "###\n",
        "\n",
        "Not True is False\n",
        "\n",
        "Not False is True\n",
        "\n",
        "True AND TRUE is True\n",
        "\n",
        "True AND False is False\n",
        "\n",
        "False AND True is False\n",
        "\n",
        "False AND False is False\n",
        "\n",
        "True OR False is True\n",
        "\n",
        "False OR True is True\n",
        "\n",
        "True OR True is True\n",
        "\n",
        "False OR False is False"
      ],
      "metadata": {
        "id": "ANOI-v42RcMP"
      }
    },
    {
      "cell_type": "markdown",
      "source": [
        "#\n",
        "4. What are the values of the following expressions?\n",
        "(5 &gt; 4) and (3 == 5)\n",
        "not (5 &gt; 4)\n",
        "(5 &gt; 4) or (3 == 5)\n",
        "not ((5 &gt; 4) or (3 == 5))\n",
        "(True and True) and (True == False)\n",
        "(not False) or (not True)"
      ],
      "metadata": {
        "id": "v0NdbM2AS5Nz"
      }
    },
    {
      "cell_type": "code",
      "source": [
        "### False\n",
        "False\n",
        "True\n",
        "False\n",
        "False\n",
        "True\n",
        "###"
      ],
      "metadata": {
        "id": "FrQjb70gQlCP"
      },
      "execution_count": null,
      "outputs": []
    },
    {
      "cell_type": "markdown",
      "source": [
        "# 5. What are the six comparison operators?"
      ],
      "metadata": {
        "id": "BFjX7uQhTqjV"
      }
    },
    {
      "cell_type": "code",
      "source": [
        "###\n",
        "\n",
        "==, !=, <, >, <=, and >=.\n",
        "\n",
        "###"
      ],
      "metadata": {
        "id": "OoAAX1ItTvUx"
      },
      "execution_count": null,
      "outputs": []
    },
    {
      "cell_type": "markdown",
      "source": [
        "# 6. How do you tell the difference between the equal to and assignment operators?Describe a condition and when you would use one."
      ],
      "metadata": {
        "id": "t758I58UUC6t"
      }
    },
    {
      "cell_type": "code",
      "source": [
        "###\n",
        "\n",
        "= is the assignment operator that stores a value in a variable.\n",
        "\n",
        "== is the equal to operator that compares two values and evaluates to a Boolean value\n",
        "\n",
        "###"
      ],
      "metadata": {
        "id": "FokLAu5wUL5X"
      },
      "execution_count": null,
      "outputs": []
    },
    {
      "cell_type": "markdown",
      "source": [
        "# 7. Identify the three blocks in this code:\n",
        "spam = 0\n",
        "if spam == 10:\n",
        "print(&#39;eggs&#39;)\n",
        "if spam &gt; 5:\n",
        "print(&#39;bacon&#39;)\n",
        "else:\n",
        "print(&#39;ham&#39;)\n",
        "print(&#39;spam&#39;)\n",
        "print(&#39;spam&#39;)"
      ],
      "metadata": {
        "id": "smIywDJFUjEu"
      }
    },
    {
      "cell_type": "code",
      "source": [
        "###\n",
        "\n",
        "The 3 blocks are\n",
        "\n",
        "if spam == 10: print('eggs')\n",
        "if spam > 5: print('bacon')\n",
        "else: print('ham')\n",
        "\n",
        "###"
      ],
      "metadata": {
        "id": "jhrebWPdWpzR"
      },
      "execution_count": null,
      "outputs": []
    },
    {
      "cell_type": "markdown",
      "source": [
        "#\n",
        "8. Write code that prints Hello if 1 is stored in spam, prints Howdy if 2 is stored in spam, and prints\n",
        "Greetings! if anything else is stored in spam."
      ],
      "metadata": {
        "id": "CGX8ZlVoW8fb"
      }
    },
    {
      "cell_type": "code",
      "source": [
        "###\n",
        "if spam == 1:\n",
        "  print('Hello')\n",
        "elif spam == 2:\n",
        "  print('Howdy')\n",
        "else:\n",
        "  print('Greetings!')\n",
        "###"
      ],
      "metadata": {
        "colab": {
          "base_uri": "https://localhost:8080/"
        },
        "id": "cLgg_-eIXJfG",
        "outputId": "65fa3981-096e-4d49-b572-cfe83f356668"
      },
      "execution_count": 8,
      "outputs": [
        {
          "output_type": "stream",
          "name": "stdout",
          "text": [
            "Greetings!\n"
          ]
        }
      ]
    },
    {
      "cell_type": "markdown",
      "source": [
        "#\n",
        "9.If your programme is stuck in an endless loop, what keys you’ll press?"
      ],
      "metadata": {
        "id": "dRPCGT_nXdsU"
      }
    },
    {
      "cell_type": "code",
      "source": [
        "#\n",
        "Using CTRL-C to stop a program stuck in an infinite loop"
      ],
      "metadata": {
        "id": "JJeiA4yeYELB"
      },
      "execution_count": null,
      "outputs": []
    },
    {
      "cell_type": "markdown",
      "source": [
        "#\n",
        "10. How can you tell the difference between break and continue?"
      ],
      "metadata": {
        "id": "LdWZSJdDYKLW"
      }
    },
    {
      "cell_type": "code",
      "source": [
        "##\n",
        "The break statement will move the execution outside and just after a loop.\n",
        "The continue statement will move the execution to the start of the loop."
      ],
      "metadata": {
        "id": "Q4-B78T9YVv7"
      },
      "execution_count": null,
      "outputs": []
    },
    {
      "cell_type": "markdown",
      "source": [
        "#\n",
        "11. In a for loop, what is the difference between range(10), range(0, 10), and range(0, 10, 1)?"
      ],
      "metadata": {
        "id": "VYvKnMPdYkOV"
      }
    },
    {
      "cell_type": "code",
      "source": [
        "###\n",
        "There is no difference, they all will give the same result"
      ],
      "metadata": {
        "id": "BSjThX-9Zqy6"
      },
      "execution_count": null,
      "outputs": []
    },
    {
      "cell_type": "markdown",
      "source": [
        "#\n",
        "12. Write a short program that prints the numbers 1 to 10 using a for loop. Then write an equivalent\n",
        "program that prints the numbers 1 to 10 using a while loop."
      ],
      "metadata": {
        "id": "O-DgPKDBZ05X"
      }
    },
    {
      "cell_type": "code",
      "source": [
        "for i in range(1, 11):\n",
        " print(i)\n"
      ],
      "metadata": {
        "colab": {
          "base_uri": "https://localhost:8080/"
        },
        "id": "XweQKTizZkRZ",
        "outputId": "2b9a4ba5-b65c-498c-bf48-6446a9e5940f"
      },
      "execution_count": 15,
      "outputs": [
        {
          "output_type": "stream",
          "name": "stdout",
          "text": [
            "1\n",
            "2\n",
            "3\n",
            "4\n",
            "5\n",
            "6\n",
            "7\n",
            "8\n",
            "9\n",
            "10\n"
          ]
        }
      ]
    },
    {
      "cell_type": "code",
      "source": [
        "i = 1\n",
        "\n",
        "while i <= 10:\n",
        " print(i)\n",
        " i=i+1\n"
      ],
      "metadata": {
        "colab": {
          "base_uri": "https://localhost:8080/"
        },
        "id": "Vro9VxrcaISP",
        "outputId": "4fb544e3-e2e8-411a-8630-8e5c7e33d4c9"
      },
      "execution_count": 21,
      "outputs": [
        {
          "output_type": "stream",
          "name": "stdout",
          "text": [
            "1\n",
            "2\n",
            "3\n",
            "4\n",
            "5\n",
            "6\n",
            "7\n",
            "8\n",
            "9\n",
            "10\n"
          ]
        }
      ]
    },
    {
      "cell_type": "markdown",
      "source": [
        "#\n",
        "13. If you had a function named bacon() inside a module named spam, how would you call it after\n",
        "importing spam?"
      ],
      "metadata": {
        "id": "7pLQdtEqbwdm"
      }
    },
    {
      "cell_type": "code",
      "source": [
        "###\n",
        "use-  spam.bacon()"
      ],
      "metadata": {
        "id": "WFpYj8tqcCGj"
      },
      "execution_count": null,
      "outputs": []
    }
  ]
}