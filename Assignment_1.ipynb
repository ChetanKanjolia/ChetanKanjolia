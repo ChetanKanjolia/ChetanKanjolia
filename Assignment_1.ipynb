{
  "nbformat": 4,
  "nbformat_minor": 0,
  "metadata": {
    "colab": {
      "provenance": []
    },
    "kernelspec": {
      "name": "python3",
      "display_name": "Python 3"
    },
    "language_info": {
      "name": "python"
    }
  },
  "cells": [
    {
      "cell_type": "markdown",
      "source": [
        "1. In the below elements which of them are values or an   expression? eg:- values can be\n",
        "integer or string and expressions will be mathematical operators.\n",
        "*\n",
        "&#39;hello&#39;\n",
        "-87.8\n",
        "-\n",
        "/\n",
        "+\n",
        "6"
      ],
      "metadata": {
        "id": "oHlpweLi0suk"
      }
    },
    {
      "cell_type": "code",
      "execution_count": 1,
      "metadata": {
        "id": "1HvUXc400lMN"
      },
      "outputs": [],
      "source": [
        "# Values are - 'hello' , -87.8 , 6\n",
        "# Expressions are - * , - , / , + "
      ]
    },
    {
      "cell_type": "markdown",
      "source": [
        "2. What is the difference between string and variable?"
      ],
      "metadata": {
        "id": "DyHiZf7T3zgL"
      }
    },
    {
      "cell_type": "code",
      "source": [
        "# String - String are values or information that is stored in a variable.\n",
        "# Variable - Variable are used to store values or information that can be integer,float,string,etc."
      ],
      "metadata": {
        "id": "5Vvm00ZP1X4L"
      },
      "execution_count": 14,
      "outputs": []
    },
    {
      "cell_type": "markdown",
      "source": [
        "3. Describe three different data types."
      ],
      "metadata": {
        "id": "b9tfNiXU7cOc"
      }
    },
    {
      "cell_type": "code",
      "source": [
        "# The diferent data types in python are:-\n",
        "  1. Int - Eg:- 2, 45, 1228, -1, -34.\n",
        "  2. float - Eg:- 1.23, 0.987, 5.4\n",
        "  3. complex - Eg:- 5+3j (5 is real & 3j is imaginary)\n",
        "  4. Boolean - Eg:- True or False "
      ],
      "metadata": {
        "id": "z_27AWi17hsF"
      },
      "execution_count": null,
      "outputs": []
    },
    {
      "cell_type": "markdown",
      "source": [
        "4. What is an expression made up of? What do all expressions do?"
      ],
      "metadata": {
        "id": "2-gS8WaD8nUU"
      }
    },
    {
      "cell_type": "code",
      "source": [
        "# An expression is made up of mathemaical operators and perform respective operations like:\n",
        "  Addition\n",
        "  Substraction\n",
        "  Multiplication\n",
        "  equality\n",
        "  Division, etc."
      ],
      "metadata": {
        "id": "KfWbn7QJ8u1l"
      },
      "execution_count": null,
      "outputs": []
    },
    {
      "cell_type": "markdown",
      "source": [
        "5. This assignment statements, like spam = 10. What is the difference between an\n",
        "expression and a statement?"
      ],
      "metadata": {
        "id": "J7gQYCqO9jia"
      }
    },
    {
      "cell_type": "code",
      "source": [
        "# The difference between expression and a statement is that an expression results into a value, whereas a statement cannot."
      ],
      "metadata": {
        "id": "0htDLyCH903x"
      },
      "execution_count": 26,
      "outputs": []
    },
    {
      "cell_type": "markdown",
      "source": [
        "6. After running the following code, what does the variable bacon contain?\n",
        "bacon = 22\n",
        "bacon + 1"
      ],
      "metadata": {
        "id": "4Y4v-FJY-2vJ"
      }
    },
    {
      "cell_type": "code",
      "source": [
        "bacon = 22\n",
        "bacon + 1\n",
        "# The variable bacon contains an integer value"
      ],
      "metadata": {
        "colab": {
          "base_uri": "https://localhost:8080/"
        },
        "id": "IxOP0E0O9-jI",
        "outputId": "033d58fa-e054-4d98-e4c8-7bc7d1bef2a2"
      },
      "execution_count": 27,
      "outputs": [
        {
          "output_type": "execute_result",
          "data": {
            "text/plain": [
              "23"
            ]
          },
          "metadata": {},
          "execution_count": 27
        }
      ]
    },
    {
      "cell_type": "markdown",
      "source": [
        "7. What should the values of the following two terms be?\n",
        "&#39;spam&#39; + &#39;spamspam&#39;\n",
        "&#39;spam&#39; * 3"
      ],
      "metadata": {
        "id": "8JZPn6fg_Xz9"
      }
    },
    {
      "cell_type": "code",
      "source": [
        "\"spam\" + \"spamspam\""
      ],
      "metadata": {
        "colab": {
          "base_uri": "https://localhost:8080/",
          "height": 36
        },
        "id": "kQtnMHdc_CeK",
        "outputId": "8424977c-08fb-4070-8b55-8305c49038f3"
      },
      "execution_count": 28,
      "outputs": [
        {
          "output_type": "execute_result",
          "data": {
            "text/plain": [
              "'spamspamspam'"
            ],
            "application/vnd.google.colaboratory.intrinsic+json": {
              "type": "string"
            }
          },
          "metadata": {},
          "execution_count": 28
        }
      ]
    },
    {
      "cell_type": "code",
      "source": [
        "\"spam\" * 3"
      ],
      "metadata": {
        "colab": {
          "base_uri": "https://localhost:8080/",
          "height": 36
        },
        "id": "-eWjqCEP_kTZ",
        "outputId": "a9f305b5-ab50-429a-973b-708bccbb5696"
      },
      "execution_count": 29,
      "outputs": [
        {
          "output_type": "execute_result",
          "data": {
            "text/plain": [
              "'spamspamspam'"
            ],
            "application/vnd.google.colaboratory.intrinsic+json": {
              "type": "string"
            }
          },
          "metadata": {},
          "execution_count": 29
        }
      ]
    },
    {
      "cell_type": "code",
      "source": [
        "# The result/Value of both the terms are same"
      ],
      "metadata": {
        "id": "RH5T3tUZ_rFo"
      },
      "execution_count": null,
      "outputs": []
    },
    {
      "cell_type": "markdown",
      "source": [
        "8. Why is eggs a valid variable name while 100 is invalid?"
      ],
      "metadata": {
        "id": "E_NkwWPhAGG0"
      }
    },
    {
      "cell_type": "code",
      "source": [
        "# '100' is a value hence it cannot be a valid variable, whereas 'eggs' is a valid and acceptable variable that stores a value in its memory location"
      ],
      "metadata": {
        "id": "NLxlxTB8A0Ad"
      },
      "execution_count": 35,
      "outputs": []
    },
    {
      "cell_type": "markdown",
      "source": [
        "9. What three functions can be used to get the integer, floating-point number, or string\n",
        "version of a value?"
      ],
      "metadata": {
        "id": "d6B4bEStCjpP"
      }
    },
    {
      "cell_type": "code",
      "source": [
        "# int() for integer\n",
        "# float() for floating-point number\n",
        "# str() for string version"
      ],
      "metadata": {
        "id": "t1PaDlNSCMaH"
      },
      "execution_count": null,
      "outputs": []
    },
    {
      "cell_type": "markdown",
      "source": [
        "10. Why does this expression cause an error? How can you fix it?\n",
        "&#39;I have eaten &#39; + 99 + &#39; burritos.&#39;"
      ],
      "metadata": {
        "id": "Whlie9xeDq8R"
      }
    },
    {
      "cell_type": "code",
      "source": [
        "# There is an error because cocatenation operation can be performed of similar values.\n",
        "# Here we need to convert value of '99' to string to get the issue fixed."
      ],
      "metadata": {
        "id": "e9riItYDEVc6"
      },
      "execution_count": null,
      "outputs": []
    },
    {
      "cell_type": "code",
      "source": [
        "'I have eaten'+' 99 '+'burritos.'"
      ],
      "metadata": {
        "colab": {
          "base_uri": "https://localhost:8080/",
          "height": 36
        },
        "id": "qleN4EwlDnXh",
        "outputId": "1476172e-2273-4ab9-bb2c-a87a20bd39b1"
      },
      "execution_count": 40,
      "outputs": [
        {
          "output_type": "execute_result",
          "data": {
            "text/plain": [
              "'I have eaten 99 burritos.'"
            ],
            "application/vnd.google.colaboratory.intrinsic+json": {
              "type": "string"
            }
          },
          "metadata": {},
          "execution_count": 40
        }
      ]
    }
  ]
}